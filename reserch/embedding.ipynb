{
 "cells": [
  {
   "cell_type": "code",
   "execution_count": null,
   "metadata": {},
   "outputs": [],
   "source": []
  },
  {
   "cell_type": "code",
   "execution_count": null,
   "metadata": {},
   "outputs": [],
   "source": []
  },
  {
   "cell_type": "code",
   "execution_count": 1,
   "metadata": {},
   "outputs": [],
   "source": [
    "import os"
   ]
  },
  {
   "cell_type": "code",
   "execution_count": 2,
   "metadata": {},
   "outputs": [
    {
     "data": {
      "text/plain": [
       "'/Users/vivek/work/GIT/Triluxo/reserch'"
      ]
     },
     "execution_count": 2,
     "metadata": {},
     "output_type": "execute_result"
    }
   ],
   "source": [
    "%pwd"
   ]
  },
  {
   "cell_type": "code",
   "execution_count": 3,
   "metadata": {},
   "outputs": [],
   "source": [
    "os.chdir(\"../\")"
   ]
  },
  {
   "cell_type": "code",
   "execution_count": 4,
   "metadata": {},
   "outputs": [
    {
     "data": {
      "text/plain": [
       "'/Users/vivek/work/GIT/Triluxo'"
      ]
     },
     "execution_count": 4,
     "metadata": {},
     "output_type": "execute_result"
    }
   ],
   "source": [
    "%pwd"
   ]
  },
  {
   "cell_type": "code",
   "execution_count": 5,
   "metadata": {},
   "outputs": [],
   "source": [
    "from langchain_community.retrievers import PineconeHybridSearchRetriever"
   ]
  },
  {
   "cell_type": "code",
   "execution_count": 6,
   "metadata": {},
   "outputs": [
    {
     "data": {
      "text/plain": [
       "True"
      ]
     },
     "execution_count": 6,
     "metadata": {},
     "output_type": "execute_result"
    }
   ],
   "source": [
    "from dotenv import load_dotenv\n",
    "load_dotenv()"
   ]
  },
  {
   "cell_type": "code",
   "execution_count": 7,
   "metadata": {},
   "outputs": [],
   "source": [
    "index_name = \"triluxo\"\n"
   ]
  },
  {
   "cell_type": "code",
   "execution_count": 8,
   "metadata": {},
   "outputs": [],
   "source": [
    "api_key = os.getenv(\"PINECONE\")"
   ]
  },
  {
   "cell_type": "code",
   "execution_count": 9,
   "metadata": {},
   "outputs": [
    {
     "name": "stderr",
     "output_type": "stream",
     "text": [
      "/opt/miniconda3/envs/triluxo/lib/python3.11/site-packages/pinecone/data/index.py:1: TqdmWarning: IProgress not found. Please update jupyter and ipywidgets. See https://ipywidgets.readthedocs.io/en/stable/user_install.html\n",
      "  from tqdm.autonotebook import tqdm\n"
     ]
    },
    {
     "name": "stdout",
     "output_type": "stream",
     "text": [
      "Existing indexes: [{\n",
      "    \"name\": \"hybrid-search-pinecone\",\n",
      "    \"dimension\": 384,\n",
      "    \"metric\": \"dotproduct\",\n",
      "    \"host\": \"hybrid-search-pinecone-nqxn8hs.svc.aped-4627-b74a.pinecone.io\",\n",
      "    \"spec\": {\n",
      "        \"serverless\": {\n",
      "            \"cloud\": \"aws\",\n",
      "            \"region\": \"us-east-1\"\n",
      "        }\n",
      "    },\n",
      "    \"status\": {\n",
      "        \"ready\": true,\n",
      "        \"state\": \"Ready\"\n",
      "    },\n",
      "    \"deletion_protection\": \"disabled\"\n",
      "}]\n",
      "Index 'triluxo' created successfully.\n"
     ]
    }
   ],
   "source": [
    "import os\n",
    "from pinecone import Pinecone, ServerlessSpec\n",
    "\n",
    "\n",
    "# index_name = \"hybrid-search-pinecone\"\n",
    "\n",
    "#initizing the pinecone clinet\n",
    "pc = Pinecone(api_key=api_key)\n",
    "\n",
    "try:\n",
    "    # Retrieve the list of existing indexes\n",
    "    existing_indexes = pc.list_indexes()\n",
    "    print(f\"Existing indexes: {existing_indexes}\")\n",
    "\n",
    "    if index_name not in existing_indexes:\n",
    "        # Create the index if it doesn't exist\n",
    "        pc.create_index(\n",
    "            name=index_name,\n",
    "            dimension=384,  # Dimension of your dense model\n",
    "            metric='dotproduct',  # Metric for similarity search\n",
    "            spec=ServerlessSpec(cloud='aws', region='us-east-1')\n",
    "        )\n",
    "        print(f\"Index '{index_name}' created successfully.\")\n",
    "    else:\n",
    "        print(f\"Index '{index_name}' already exists.\")\n",
    "\n",
    "except Exception as e:\n",
    "    if e.status == 409:\n",
    "        # Handle the case where the index already exists\n",
    "        print(f\"Index '{index_name}' already exists. Proceeding to use it.\")\n",
    "    else:\n",
    "        # Handle other potential exceptions\n",
    "        print(f\"An error occurred while creating the index: {e}\")"
   ]
  },
  {
   "cell_type": "code",
   "execution_count": 10,
   "metadata": {},
   "outputs": [
    {
     "data": {
      "text/plain": [
       "<pinecone.data.index.Index at 0x10d703450>"
      ]
     },
     "execution_count": 10,
     "metadata": {},
     "output_type": "execute_result"
    }
   ],
   "source": [
    "index = pc.Index(index_name)\n",
    "index"
   ]
  },
  {
   "cell_type": "code",
   "execution_count": 11,
   "metadata": {},
   "outputs": [],
   "source": [
    "from langchain_huggingface import HuggingFaceEmbeddings\n",
    "embeddings = HuggingFaceEmbeddings(model_name = \"all-MiniLM-L6-v2\")\n"
   ]
  },
  {
   "cell_type": "code",
   "execution_count": 12,
   "metadata": {},
   "outputs": [],
   "source": [
    "os.environ[\"HF_TOKEN\"] = os.getenv(\"HF_TOKEN\")"
   ]
  },
  {
   "cell_type": "code",
   "execution_count": 13,
   "metadata": {},
   "outputs": [
    {
     "data": {
      "text/plain": [
       "HuggingFaceEmbeddings(client=SentenceTransformer(\n",
       "  (0): Transformer({'max_seq_length': 256, 'do_lower_case': False}) with Transformer model: BertModel \n",
       "  (1): Pooling({'word_embedding_dimension': 384, 'pooling_mode_cls_token': False, 'pooling_mode_mean_tokens': True, 'pooling_mode_max_tokens': False, 'pooling_mode_mean_sqrt_len_tokens': False, 'pooling_mode_weightedmean_tokens': False, 'pooling_mode_lasttoken': False, 'include_prompt': True})\n",
       "  (2): Normalize()\n",
       "), model_name='all-MiniLM-L6-v2', cache_folder=None, model_kwargs={}, encode_kwargs={}, multi_process=False, show_progress=False)"
      ]
     },
     "execution_count": 13,
     "metadata": {},
     "output_type": "execute_result"
    }
   ],
   "source": [
    "embeddings"
   ]
  },
  {
   "cell_type": "code",
   "execution_count": 14,
   "metadata": {},
   "outputs": [
    {
     "data": {
      "text/plain": [
       "<pinecone_text.sparse.bm25_encoder.BM25Encoder at 0x14a8f2750>"
      ]
     },
     "execution_count": 14,
     "metadata": {},
     "output_type": "execute_result"
    }
   ],
   "source": [
    "from pinecone_text.sparse import BM25Encoder\n",
    "\n",
    "bm25_encoder = BM25Encoder().default() #defining the default encoder i.e .default()\n",
    "bm25_encoder"
   ]
  },
  {
   "cell_type": "code",
   "execution_count": 15,
   "metadata": {},
   "outputs": [
    {
     "name": "stdout",
     "output_type": "stream",
     "text": [
      "['Brainlox: Learn technical courses.', 'Courses ', 'Technical', 'Academic', 'Language', 'Music', 'Lifestyle', 'Book a Free Demo Now', 'Sign In', 'FAQ', 'Contact Us', 'Practice Python', 'Learn Now', 'Home', 'Courses', 'Courses', 'We found great courses available for you', '$', '20', 'per session', 'LEARN SCRATCH PROGRAMING', '', 'Scratch Course is the foundation of coding and is a building block of a coding journey. If you want', ' ', '16', ' Lessons', 'View Details', '$', '30', 'per session', 'LEARN CLOUD COMPUTING BASICS-AWS', '', 'In this course we are going to cover the basics and the most important services on AWS,', 'At the end ', ' ', '20', ' Lessons', 'View Details', '$', '20', 'per session', 'LEARN MOBILE DEVELOPMENT', '', 'Mobile application development is the process of creating software applications that run on a mobil', ' ', '24', ' Lessons', 'View Details', '$', '20', 'per session', 'LEARN CORE JAVA PROGRAMMING ONLINE', '', 'Java is a very popular high-level, class-based, object-oriented programming language that is design', ' ', '41', ' Lessons', 'View Details', '$', '20', 'per session', 'LEARN ROBOTICS', '', 'You can open all kinds of doors for advancement in so many careers with a basic understanding of el', ' ', '25', ' Lessons', 'View Details', '$', '20', 'per session', 'LEARN JAVASCRIPT', '', 'JavaScript is the most popular programming language in the world. It powers the entire modern web. ', ' ', '18', ' Lessons', 'View Details', '$', '20', 'per session', 'LEARN NODE JS', '', 'Node.js developers are in high demand and the language is used for everything from traditional web ', ' ', '18', ' Lessons', 'View Details', '$', '35', 'per session', 'LEARN CLOUD COMPUTING ADVANCE-AWS', 'DESCRIPTION', '', 'This introduction to cloud computing on Amazon AWS course takes you from the AWS Ad', ' ', '18', ' Lessons', 'View Details', '$', '20', 'per session', 'PYTHON PROGRAMMING-BEGINNER', '', 'Python is a language with simple syntax, and a powerful set of libraries. It has a rich programming', ' ', '16', ' Lessons', 'View Details', '$', '30', 'per session', 'Roblox Programming For Beginners', 'Explore the dynamic universe of game development with our \"Roblox Game Development Fundamentals\" cou', ' ', '15', ' Lessons', 'View Details', '$', '20', 'per session', 'PYTHON PROGRAMMING-INTERMEDIATE', '', 'Take your python skills to the next level and start building real applications.', '', 'Python is a pro', ' ', '16', ' Lessons', 'View Details', '$', '25', 'per session', 'PYTHON PROGRAMMING-ADVANCE', 'If you already know Python basics, then this training is the next step in your Python learning path ', ' ', '30', ' Lessons', 'View Details', '$', '20', 'per session', 'PYTHON PROGRAMMING GROUP CLASSES - BEGINNER', '', 'Python is a language with simple syntax, and a powerful set of libraries. It has a rich programming', ' ', '16', ' Lessons', 'View Details', '$', '30', 'per session', 'Advanced Roblox Scripting Workshop', '\"Are you ready to unlock the full potential of your Roblox game development skills? Join our Interme', ' ', '14', ' Lessons', 'View Details', '$', '20', 'per session', 'Robotics Adventure Awaits:Join Our Summer Camp for Young Tech Wizards!', 'This course is designed to introduce beginners to the world of robotics. Learners will be taught the', ' ', '16', ' Lessons', 'View Details', '$', '20', 'per session', 'Java Project-Based Course', 'Java Project-Based Course for Intermediate Level Students ;Overview: This course is designed for int', ' ', '7', ' Lessons', 'View Details', '$', '22', 'per session', 'Artificial Intelligence Adventures: Building AI Chatbot Like Chatgpt (For Kids)', 'Unlock the power of AI chatbots in our 10-day course! Gain comprehensive knowledge of chatbot develo', ' ', '10', ' Lessons', 'View Details', '$', '20', 'per session', 'Python Playground: Create a Hangman Game', 'Python Playground : Create a Hangman Game is an exciting and engaging course designed specifically f', ' ', '8', ' Lessons', 'View Details', '$', '20', 'per session', 'Scratch Playground: Create a Maze Game!', 'Scratch Playground : Create a Maze Game! is a beginner-level course designed to introduce kids to th', ' ', '8', ' Lessons', 'View Details', '$', '13', 'per session', 'Artificial Intelligence Essentials: Summer Bootcamp', 'Join us for this engaging 5-day summer bootcamp where we will explore the fascinating world of Artif', ' ', '5', ' Lessons', 'View Details', '$', '25', 'per session', 'Time Mastery Camp: AI for Jobs, Business, Careers', 'The \"AI for Productivity and Time Management\" course: 🚀💡', 'Day 1: Introduction to AI and its Applica', ' ', '11', ' Lessons', 'View Details', '$', '20', 'per session', 'Build Your Own Theme Park in Roblox', 'Roblox Studio fundamentals are taught through fun and interactive projects. Lectures, projects, hand', ' ', '8', ' Lessons', 'View Details', '$', '12', 'per session', 'Java Coding Summer Camp for Young Minds', 'Java Journey: Coding Camp for Curious Minds\" is a fun-filled, 5-day adventure into the world of prog', ' ', '5', ' Lessons', 'View Details', '$', '25', 'per session', 'AI Camp for Entrepreneurs: Build Business Success', 'Welcome to the world of AI in entrepreneurship!  In this course, we will embark on a thrilling journ', ' ', '7', ' Lessons', 'View Details', '$', '12', 'per session', 'ChatGPT Boot Camp: Basics & Best Uses', \"Join us for an exciting journey into the world of AI chatbots with this 5-day bootcamp. You'll learn\", ' ', '5', ' Lessons', 'View Details', '$', '13', 'per session', 'Create-A-Bot: A Project-Based Robotics Exploration', 'Ignite your child\\'s tech curiosity with our \"RoboRacers\" camp! Over five days, campers will delve in', ' ', '5', ' Lessons', 'View Details', '$', '20', 'per session', 'Java & Proramming', '\" Project outline for JAVA PROJECT BASED BOOTCAMP', '1: Introduction to Java and Programming Basics.', '2.', ' ', '8', ' Lessons', 'View Details', '$', '13', 'per session', 'Chatbot Creators: Design a ChatGPT-like AI', 'Join us on a 7-day bootcamp to step into the world of AI and create your own chatbot like ChatGPT. Y', ' ', '7', ' Lessons', 'View Details', '$', '30', 'per session', 'Web Development from scratch', 'Unlock the boundless potential of web development with our \"Web Development Essentials\" course. Whet', ' ', '6', ' Lessons', 'View Details', '$', '11', 'per session', 'Summer Camp: Introduction to Python', 'Step into our 7-day \"Python Project Playground\" camp where coding meets creativity! Kids will explor', ' ', '7', ' Lessons', 'View Details', '$', '22', 'per session', 'AI Secrets Revealed: Master Productivity Hacks That Will Blow Your Mind! (For Kids)', 'Boost your productivity with AI! ', '', 'Join our \"AI for Productivity and Time Management\" course and lea', ' ', '11', ' Lessons', 'View Details', '$', '12', 'per session', 'Summer Bootcamp with JavaScript: Real Projects, Real Results', \"In this 5-day camp, you'll dive headfirst into JavaScript, one of the world's most popular programmi\", ' ', '5', ' Lessons', 'View Details', '$', '22', 'per session', 'AI Disruption: Top Entrepreneurs Harnessing AI for Unprecedented Success! (For Kids)', 'Understand the role and potential of AI in entrepreneurship, learn the fundamentals, explore data ac', ' ', '7', ' Lessons', 'View Details', '$', '22', 'per session', \"The AI Writer's Masterclass: Innovation and Inspiration in Creative Writing! (For Kids)\", \"Enhance your creative writing skills with AI! Join our 10-day course and explore AI's role in writin\", ' ', '10', ' Lessons', 'View Details', '$', '30', 'per session', 'Web Development Pro: Intermediate Level', 'Ready to unlock the full potential of web development? Join our \"Intermediate Web Development Master', ' ', '8', ' Lessons', 'View Details', '$', '20', 'per session', 'Scratch Playground: Create a Scroller Game!', 'Scratch Playground : Create a Scroller Game is an intermediate level course designed to teach kids t', ' ', '8', ' Lessons', 'View Details', '$', '25', 'per session', 'AI Pro: Creative Writing Camp for Adults', '🚀 Welcome to Creative Writing with AI for ADULTS! ', 'Unleash your creativity with cutting-edge AI tec', ' ', '10', ' Lessons', 'View Details', '$', '20', 'per session', 'Python Playground: Create Your Own Snake Game', 'Through this course, participants will learn the fundamentals of Python programming language, as wel', ' ', '8', ' Lessons', 'View Details', '$', '20', 'per session', 'Build your own Calculator using Python Bootcamp for kids', 'This bootcamp is a fun and engaging program designed to introduce children to the basics of programm', ' ', '8', ' Lessons', 'View Details', '$', '20', 'per session', 'Python Playground: Create a Tic Tac Toe Game', 'An interactive and hands-on tutorial designed to help learners build their programming skills while ', ' ', '8', ' Lessons', 'View Details', '$', '20', 'per session', 'Scratch Playground: Create a Flappy Bird Game!', 'Scratch Playground 103: Create a Flappy Bird is a beginner to intermediate level course designed to ', ' ', '8', ' Lessons', 'View Details', '$', '12', 'per session', 'HTML, CSS, JavaScript: 7-Day Summer Bootcamp', 'Jump into the vibrant world of coding with our engaging 7-day summer camp! Starting from scratch, yo', ' ', '7', ' Lessons', 'View Details', '$', '11', 'per session', 'Hands-on Java: Project-based Learning for Coding Novices', 'Embark on a coding adventure with our \"Code, Create, Conquer\" Java camp! In just 7 days, kids will l', ' ', '7', ' Lessons', 'View Details', '$', '20', 'per session', 'Python Playground: Create a Memory Game', 'Python Playground: Create a Memory Game is a beginner-level course designed for kids who are interes', ' ', '8', ' Lessons', 'View Details', '$', '12', 'per session', 'Summer Bootcamp: 5-Day Scratch Programming for Beginners', 'Embark on an exciting coding adventure with our 5-day Scratch Programming camp! Designed for beginne', ' ', '5', ' Lessons', 'View Details', '$', '12', 'per session', '5-Day Summer Camp: Python for Beginners', 'Dive into coding with our 5-day \"Python Playground\" camp! Kids will explore Python, a popular langua', ' ', '5', ' Lessons', 'View Details', '$', '20', 'per session', 'Build a Text analyzer using Python Bootcamp for kids', 'The Build a Text Analyzer using Python Bootcamp for Kids is an educational program designed to intro', ' ', '8', ' Lessons', 'View Details', '$', '20', 'per session', 'Scratch Playground : Create a Platformer Game!', 'Scratch Playground : Create a Platformer Game is an intermediate level course designed to teach kids', ' ', '8', ' Lessons', 'View Details', '$', '30', 'per session', 'Introduction to Artificial Intelligence!', 'Welcome to the \"Introduction to Artificial Intelligence and Python\" course! This course is designed ', ' ', '5', ' Lessons', 'View Details', '$', '20', 'per session', 'Python Playground: Create a Rock, Paper, Scissors Game', 'This is an engaging course designed for kids who are interested in learning programming with Python.', ' ', '8', ' Lessons', 'View Details', '$', '25', 'per session', 'AI in Stock Market Success: Career Growth Camp !!', 'Are you ready to unlock the secrets of predicting stock prices using AI? 📈🤖 Join our immersive cou', ' ', '10', ' Lessons', 'View Details', '$', '22', 'per session', 'From Beginner to AI Pro: Kickstart Your Journey With Artificial Intelligence! (For Kids)', 'Dive into the world of AI! 🤖 Join our \"Introduction to Artificial Intelligence\" course and unlock t', ' ', '20', ' Lessons', 'View Details', '$', '30', 'per session', 'Game development using python', '', 'Welcome to the \"Introduction to Python Game Development\" course! In this course, you\\'ll embark on a', ' ', '4', ' Lessons', 'View Details', '$', '20', 'per session', 'Build a Image manipulator using Python Bootcamp for kids', 'The Build a Image Manipulator using Python Bootcamp for Kids is a program designed to introduce chil', ' ', '8', ' Lessons', 'View Details', '$', '20', 'per session', 'Build a Weather app using Python Bootcamp for kids', 'Build a Weather App using Python Bootcamp for Kids is an educational program designed to introduce y', ' ', '8', ' Lessons', 'View Details', '$', '20', 'per session', 'Build Your Own Roblox Battle Arena', 'Roblox Studio fundamentals are taught through fun and interactive projects. Lectures, projects, hand', ' ', '8', ' Lessons', 'View Details', '$', '22', 'per session', \"The Millionaire's AI Playbook: Learn How to Predict Stock Prices! (For Kids)\", 'Learn to predict stock prices using the incredible potential of AI and machine learning in our compr', ' ', '10', ' Lessons', 'View Details', '$', '11', 'per session', 'Machine Learning: 7-Day Project-Based Summer Camp', 'Join our \"Machine Learning Mania\" camp for a 7-day tech adventure! Kids will tackle machine learning', ' ', '7', ' Lessons', 'View Details', '$', '25', 'per session', 'AI Pro Camp: Career Growth Catalyst', 'Our Intro to AI for Adults course is designed to equip professionals with essential knowledge and pr', ' ', '20', ' Lessons', 'View Details', '$', '20', 'per session', 'Minecraft Java Programming for Beginners', 'Session-1: Introduction to Java programming and Minecraft. Lesson 2: Getting Started in Creative Mod', ' ', '7', ' Lessons', 'View Details', '$', '20', 'per session', 'Build a Chatbot using Python Bootcamp for kids', 'This bootcamp is a fun and interactive program designed to teach children how to create their own ch', ' ', '8', ' Lessons', 'View Details', '$', '20', 'per session', 'Build a Password generator using Python Bootcamp for kids', 'Welcome to the Build a Password Generator using Python Bootcamp for Kids! In this bootcamp, you will', ' ', '8', ' Lessons', 'View Details', '$', '20', 'per session', 'Scratch Playground: Create a Space Game!', 'Scratch Playground : Create a Space Game is an intermediate-level course designed to introduce kids ', ' ', '8', ' Lessons', 'View Details', '$', '20', 'per session', 'Create Your Own Roblox Obstacle Course', 'Roblox enthusiasts who want to learn how to design and build their own custom obstacle courses withi', ' ', '8', ' Lessons', 'View Details', '$', '20', 'per session', 'Java Minecraft Creative or Survival Mode', '1. Title: Minecraft Java Programming for Beginners Overview: This class is designed for complete beg', ' ', '7', ' Lessons', 'View Details', '$', '25', 'per session', 'AI Camp for Jobs & Business:Build Your own ChatGPT', '🌟Welcome to the Chatbot Mastery Course! 🎓', '', 'Get ready to unlock the secrets of building intelligent', ' ', '10', ' Lessons', 'View Details', '$', '13', 'per session', 'HTML, CSS, JavaScript Essentials: 5-Day Coding Bootcamp', 'Unleash your creativity in our fun and interactive 5-day summer camp. No prior experience needed. Yo', ' ', '5', ' Lessons', 'View Details', 'Working to bring significant changes in online-based learning by doing extensive research for course curriculum preparation, student engagements, and looking forward to the flexible education!', 'Explore', 'Home', 'Courses', 'Gift a Course', 'Share a Message', 'Resources', 'FAQ', 'Contact', 'Address', 'USA', '(+1) 414 429 3937', 'support@brainlox.com', '(+1) 414 429 3937', '2024', ' Brainlox', 'Privacy Policy', 'Terms & Conditions']\n"
     ]
    }
   ],
   "source": [
    "# Function to convert text file to Python list\n",
    "def file_to_list(filename):\n",
    "    with open(\"output.txt\", 'r') as file:\n",
    "        # Read the file content\n",
    "        content = file.read()\n",
    "        # Split the content by lines and return as a list\n",
    "        lines_list = content.splitlines()  # Each line will be a separate item in the list\n",
    "    return lines_list\n",
    "\n",
    "# Example usage\n",
    "filename = 'example.txt'  # Replace with your text file name\n",
    "result_list = file_to_list(filename)\n",
    "print(result_list)"
   ]
  },
  {
   "cell_type": "code",
   "execution_count": 16,
   "metadata": {},
   "outputs": [],
   "source": [
    "def chunk_list(data, chunk_size, overlap):\n",
    "    \"\"\"\n",
    "    Split a list into chunks with specified chunk size and overlap length.\n",
    "\n",
    "    :param data: List to be chunked\n",
    "    :param chunk_size: Size of each chunk\n",
    "    :param overlap: Overlap length between consecutive chunks\n",
    "    :return: List of chunks\n",
    "    \"\"\"\n",
    "    if chunk_size <= overlap:\n",
    "        raise ValueError(\"Chunk size must be greater than overlap length.\")\n",
    "    \n",
    "    # Create chunks with overlap\n",
    "    chunks = []\n",
    "    for i in range(0, len(data), chunk_size - overlap):\n",
    "        chunk = data[i:i + chunk_size]\n",
    "        chunks.append(chunk)\n",
    "        if len(chunk) < chunk_size:\n",
    "            break  # Stop if the last chunk is smaller than the chunk size\n",
    "    return chunks"
   ]
  },
  {
   "cell_type": "code",
   "execution_count": 17,
   "metadata": {},
   "outputs": [],
   "source": [
    "chunk = chunk_list(result_list, 50, 20)"
   ]
  },
  {
   "cell_type": "code",
   "execution_count": 18,
   "metadata": {},
   "outputs": [],
   "source": [
    "chunk_data = [\"\".join(chunk[i]) for i in range(len(chunk))]"
   ]
  },
  {
   "cell_type": "code",
   "execution_count": 19,
   "metadata": {},
   "outputs": [
    {
     "data": {
      "text/plain": [
       "['Brainlox: Learn technical courses.Courses TechnicalAcademicLanguageMusicLifestyleBook a Free Demo NowSign InFAQContact UsPractice PythonLearn NowHomeCoursesCoursesWe found great courses available for you$20per sessionLEARN SCRATCH PROGRAMINGScratch Course is the foundation of coding and is a building block of a coding journey. If you want 16 LessonsView Details$30per sessionLEARN CLOUD COMPUTING BASICS-AWSIn this course we are going to cover the basics and the most important services on AWS,At the end  20 LessonsView Details$20per sessionLEARN MOBILE DEVELOPMENTMobile application development is the process of creating software applications that run on a mobil 24 LessonsView Details$20',\n",
       " 'LEARN CLOUD COMPUTING BASICS-AWSIn this course we are going to cover the basics and the most important services on AWS,At the end  20 LessonsView Details$20per sessionLEARN MOBILE DEVELOPMENTMobile application development is the process of creating software applications that run on a mobil 24 LessonsView Details$20per sessionLEARN CORE JAVA PROGRAMMING ONLINEJava is a very popular high-level, class-based, object-oriented programming language that is design 41 LessonsView Details$20per sessionLEARN ROBOTICSYou can open all kinds of doors for advancement in so many careers with a basic understanding of el 25 LessonsView Details$20per sessionLEARN JAVASCRIPTJavaScript is the most popular programming language in the world. It powers the entire modern web.  18 LessonsView Details$20',\n",
       " 'per sessionLEARN ROBOTICSYou can open all kinds of doors for advancement in so many careers with a basic understanding of el 25 LessonsView Details$20per sessionLEARN JAVASCRIPTJavaScript is the most popular programming language in the world. It powers the entire modern web.  18 LessonsView Details$20per sessionLEARN NODE JSNode.js developers are in high demand and the language is used for everything from traditional web  18 LessonsView Details$35per sessionLEARN CLOUD COMPUTING ADVANCE-AWSDESCRIPTIONThis introduction to cloud computing on Amazon AWS course takes you from the AWS Ad 18 LessonsView Details$20per sessionPYTHON PROGRAMMING-BEGINNERPython is a language with simple syntax, and a powerful set of libraries. It has a rich programming 16 LessonsView Details$',\n",
       " 'per sessionLEARN CLOUD COMPUTING ADVANCE-AWSDESCRIPTIONThis introduction to cloud computing on Amazon AWS course takes you from the AWS Ad 18 LessonsView Details$20per sessionPYTHON PROGRAMMING-BEGINNERPython is a language with simple syntax, and a powerful set of libraries. It has a rich programming 16 LessonsView Details$30per sessionRoblox Programming For BeginnersExplore the dynamic universe of game development with our \"Roblox Game Development Fundamentals\" cou 15 LessonsView Details$20per sessionPYTHON PROGRAMMING-INTERMEDIATETake your python skills to the next level and start building real applications.Python is a pro 16 LessonsView Details$25per sessionPYTHON PROGRAMMING-ADVANCEIf you already know Python basics, then this training is the next step in your Python learning path  30 LessonsView Details$',\n",
       " 'per sessionPYTHON PROGRAMMING-INTERMEDIATETake your python skills to the next level and start building real applications.Python is a pro 16 LessonsView Details$25per sessionPYTHON PROGRAMMING-ADVANCEIf you already know Python basics, then this training is the next step in your Python learning path  30 LessonsView Details$20per sessionPYTHON PROGRAMMING GROUP CLASSES - BEGINNERPython is a language with simple syntax, and a powerful set of libraries. It has a rich programming 16 LessonsView Details$30per sessionAdvanced Roblox Scripting Workshop\"Are you ready to unlock the full potential of your Roblox game development skills? Join our Interme 14 LessonsView Details$20per sessionRobotics Adventure Awaits:Join Our Summer Camp for Young Tech Wizards!This course is designed to introduce beginners to the world of robotics. Learners will be taught the 16 LessonsView Details$20per session',\n",
       " '30per sessionAdvanced Roblox Scripting Workshop\"Are you ready to unlock the full potential of your Roblox game development skills? Join our Interme 14 LessonsView Details$20per sessionRobotics Adventure Awaits:Join Our Summer Camp for Young Tech Wizards!This course is designed to introduce beginners to the world of robotics. Learners will be taught the 16 LessonsView Details$20per sessionJava Project-Based CourseJava Project-Based Course for Intermediate Level Students ;Overview: This course is designed for int 7 LessonsView Details$22per sessionArtificial Intelligence Adventures: Building AI Chatbot Like Chatgpt (For Kids)Unlock the power of AI chatbots in our 10-day course! Gain comprehensive knowledge of chatbot develo 10 LessonsView Details$20per sessionPython Playground: Create a Hangman GamePython Playground : Create a Hangman Game is an exciting and engaging course designed specifically f 8 LessonsView Details$20per sessionScratch Playground: Create a Maze Game!Scratch Playground : Create a Maze Game! is a beginner-level course designed to introduce kids to th ',\n",
       " 'Unlock the power of AI chatbots in our 10-day course! Gain comprehensive knowledge of chatbot develo 10 LessonsView Details$20per sessionPython Playground: Create a Hangman GamePython Playground : Create a Hangman Game is an exciting and engaging course designed specifically f 8 LessonsView Details$20per sessionScratch Playground: Create a Maze Game!Scratch Playground : Create a Maze Game! is a beginner-level course designed to introduce kids to th 8 LessonsView Details$13per sessionArtificial Intelligence Essentials: Summer BootcampJoin us for this engaging 5-day summer bootcamp where we will explore the fascinating world of Artif 5 LessonsView Details$25per sessionTime Mastery Camp: AI for Jobs, Business, CareersThe \"AI for Productivity and Time Management\" course: 🚀💡Day 1: Introduction to AI and its Applica 11 LessonsView Details$20per sessionBuild Your Own Theme Park in RobloxRoblox Studio fundamentals are taught through fun and interactive projects. Lectures, projects, hand 8 Lessons',\n",
       " ' LessonsView Details$25per sessionTime Mastery Camp: AI for Jobs, Business, CareersThe \"AI for Productivity and Time Management\" course: 🚀💡Day 1: Introduction to AI and its Applica 11 LessonsView Details$20per sessionBuild Your Own Theme Park in RobloxRoblox Studio fundamentals are taught through fun and interactive projects. Lectures, projects, hand 8 LessonsView Details$12per sessionJava Coding Summer Camp for Young MindsJava Journey: Coding Camp for Curious Minds\" is a fun-filled, 5-day adventure into the world of prog 5 LessonsView Details$25per sessionAI Camp for Entrepreneurs: Build Business SuccessWelcome to the world of AI in entrepreneurship!  In this course, we will embark on a thrilling journ 7 LessonsView Details$12per sessionChatGPT Boot Camp: Basics & Best UsesJoin us for an exciting journey into the world of AI chatbots with this 5-day bootcamp. You\\'ll learn 5 LessonsView Details$13',\n",
       " '$25per sessionAI Camp for Entrepreneurs: Build Business SuccessWelcome to the world of AI in entrepreneurship!  In this course, we will embark on a thrilling journ 7 LessonsView Details$12per sessionChatGPT Boot Camp: Basics & Best UsesJoin us for an exciting journey into the world of AI chatbots with this 5-day bootcamp. You\\'ll learn 5 LessonsView Details$13per sessionCreate-A-Bot: A Project-Based Robotics ExplorationIgnite your child\\'s tech curiosity with our \"RoboRacers\" camp! Over five days, campers will delve in 5 LessonsView Details$20per sessionJava & Proramming\" Project outline for JAVA PROJECT BASED BOOTCAMP1: Introduction to Java and Programming Basics.2. 8 LessonsView Details$13per sessionChatbot Creators: Design a ChatGPT-like AIJoin us on a 7-day bootcamp to step into the world of AI and create your own chatbot like ChatGPT. Y 7 LessonsView Details$30per session',\n",
       " 'Java & Proramming\" Project outline for JAVA PROJECT BASED BOOTCAMP1: Introduction to Java and Programming Basics.2. 8 LessonsView Details$13per sessionChatbot Creators: Design a ChatGPT-like AIJoin us on a 7-day bootcamp to step into the world of AI and create your own chatbot like ChatGPT. Y 7 LessonsView Details$30per sessionWeb Development from scratchUnlock the boundless potential of web development with our \"Web Development Essentials\" course. Whet 6 LessonsView Details$11per sessionSummer Camp: Introduction to PythonStep into our 7-day \"Python Project Playground\" camp where coding meets creativity! Kids will explor 7 LessonsView Details$22per sessionAI Secrets Revealed: Master Productivity Hacks That Will Blow Your Mind! (For Kids)Boost your productivity with AI! Join our \"AI for Productivity and Time Management\" course and lea 11 LessonsView Details$12per sessionSummer Bootcamp with JavaScript: Real Projects, Real Results',\n",
       " 'Step into our 7-day \"Python Project Playground\" camp where coding meets creativity! Kids will explor 7 LessonsView Details$22per sessionAI Secrets Revealed: Master Productivity Hacks That Will Blow Your Mind! (For Kids)Boost your productivity with AI! Join our \"AI for Productivity and Time Management\" course and lea 11 LessonsView Details$12per sessionSummer Bootcamp with JavaScript: Real Projects, Real ResultsIn this 5-day camp, you\\'ll dive headfirst into JavaScript, one of the world\\'s most popular programmi 5 LessonsView Details$22per sessionAI Disruption: Top Entrepreneurs Harnessing AI for Unprecedented Success! (For Kids)Understand the role and potential of AI in entrepreneurship, learn the fundamentals, explore data ac 7 LessonsView Details$22per sessionThe AI Writer\\'s Masterclass: Innovation and Inspiration in Creative Writing! (For Kids)Enhance your creative writing skills with AI! Join our 10-day course and explore AI\\'s role in writin 10 LessonsView Details$30per sessionWeb Development Pro: Intermediate LevelReady to unlock the full potential of web development? Join our \"Intermediate Web Development Master 8',\n",
       " ' 7 LessonsView Details$22per sessionThe AI Writer\\'s Masterclass: Innovation and Inspiration in Creative Writing! (For Kids)Enhance your creative writing skills with AI! Join our 10-day course and explore AI\\'s role in writin 10 LessonsView Details$30per sessionWeb Development Pro: Intermediate LevelReady to unlock the full potential of web development? Join our \"Intermediate Web Development Master 8 LessonsView Details$20per sessionScratch Playground: Create a Scroller Game!Scratch Playground : Create a Scroller Game is an intermediate level course designed to teach kids t 8 LessonsView Details$25per sessionAI Pro: Creative Writing Camp for Adults🚀 Welcome to Creative Writing with AI for ADULTS! Unleash your creativity with cutting-edge AI tec 10 LessonsView Details$20per sessionPython Playground: Create Your Own Snake GameThrough this course, participants will learn the fundamentals of Python programming language, as wel 8 LessonsView Details',\n",
       " 'View Details$25per sessionAI Pro: Creative Writing Camp for Adults🚀 Welcome to Creative Writing with AI for ADULTS! Unleash your creativity with cutting-edge AI tec 10 LessonsView Details$20per sessionPython Playground: Create Your Own Snake GameThrough this course, participants will learn the fundamentals of Python programming language, as wel 8 LessonsView Details$20per sessionBuild your own Calculator using Python Bootcamp for kidsThis bootcamp is a fun and engaging program designed to introduce children to the basics of programm 8 LessonsView Details$20per sessionPython Playground: Create a Tic Tac Toe GameAn interactive and hands-on tutorial designed to help learners build their programming skills while  8 LessonsView Details$20per sessionScratch Playground: Create a Flappy Bird Game!Scratch Playground 103: Create a Flappy Bird is a beginner to intermediate level course designed to  8 LessonsView Details$12per session',\n",
       " '20per sessionPython Playground: Create a Tic Tac Toe GameAn interactive and hands-on tutorial designed to help learners build their programming skills while  8 LessonsView Details$20per sessionScratch Playground: Create a Flappy Bird Game!Scratch Playground 103: Create a Flappy Bird is a beginner to intermediate level course designed to  8 LessonsView Details$12per sessionHTML, CSS, JavaScript: 7-Day Summer BootcampJump into the vibrant world of coding with our engaging 7-day summer camp! Starting from scratch, yo 7 LessonsView Details$11per sessionHands-on Java: Project-based Learning for Coding NovicesEmbark on a coding adventure with our \"Code, Create, Conquer\" Java camp! In just 7 days, kids will l 7 LessonsView Details$20per sessionPython Playground: Create a Memory GamePython Playground: Create a Memory Game is a beginner-level course designed for kids who are interes 8 LessonsView Details$12per sessionSummer Bootcamp: 5-Day Scratch Programming for BeginnersEmbark on an exciting coding adventure with our 5-day Scratch Programming camp! Designed for beginne ',\n",
       " 'Embark on a coding adventure with our \"Code, Create, Conquer\" Java camp! In just 7 days, kids will l 7 LessonsView Details$20per sessionPython Playground: Create a Memory GamePython Playground: Create a Memory Game is a beginner-level course designed for kids who are interes 8 LessonsView Details$12per sessionSummer Bootcamp: 5-Day Scratch Programming for BeginnersEmbark on an exciting coding adventure with our 5-day Scratch Programming camp! Designed for beginne 5 LessonsView Details$12per session5-Day Summer Camp: Python for BeginnersDive into coding with our 5-day \"Python Playground\" camp! Kids will explore Python, a popular langua 5 LessonsView Details$20per sessionBuild a Text analyzer using Python Bootcamp for kidsThe Build a Text Analyzer using Python Bootcamp for Kids is an educational program designed to intro 8 LessonsView Details$20per sessionScratch Playground : Create a Platformer Game!Scratch Playground : Create a Platformer Game is an intermediate level course designed to teach kids 8 LessonsView Details',\n",
       " ' LessonsView Details$20per sessionBuild a Text analyzer using Python Bootcamp for kidsThe Build a Text Analyzer using Python Bootcamp for Kids is an educational program designed to intro 8 LessonsView Details$20per sessionScratch Playground : Create a Platformer Game!Scratch Playground : Create a Platformer Game is an intermediate level course designed to teach kids 8 LessonsView Details$30per sessionIntroduction to Artificial Intelligence!Welcome to the \"Introduction to Artificial Intelligence and Python\" course! This course is designed  5 LessonsView Details$20per sessionPython Playground: Create a Rock, Paper, Scissors GameThis is an engaging course designed for kids who are interested in learning programming with Python. 8 LessonsView Details$25per sessionAI in Stock Market Success: Career Growth Camp !!Are you ready to unlock the secrets of predicting stock prices using AI? 📈🤖 Join our immersive cou 10 LessonsView Details$22per session',\n",
       " '20per sessionPython Playground: Create a Rock, Paper, Scissors GameThis is an engaging course designed for kids who are interested in learning programming with Python. 8 LessonsView Details$25per sessionAI in Stock Market Success: Career Growth Camp !!Are you ready to unlock the secrets of predicting stock prices using AI? 📈🤖 Join our immersive cou 10 LessonsView Details$22per sessionFrom Beginner to AI Pro: Kickstart Your Journey With Artificial Intelligence! (For Kids)Dive into the world of AI! 🤖 Join our \"Introduction to Artificial Intelligence\" course and unlock t 20 LessonsView Details$30per sessionGame development using pythonWelcome to the \"Introduction to Python Game Development\" course! In this course, you\\'ll embark on a 4 LessonsView Details$20per sessionBuild a Image manipulator using Python Bootcamp for kidsThe Build a Image Manipulator using Python Bootcamp for Kids is a program designed to introduce chil 8 LessonsView Details$20per sessionBuild a Weather app using Python Bootcamp for kidsBuild a Weather App using Python Bootcamp for Kids is an educational program designed to introduce y',\n",
       " 'Welcome to the \"Introduction to Python Game Development\" course! In this course, you\\'ll embark on a 4 LessonsView Details$20per sessionBuild a Image manipulator using Python Bootcamp for kidsThe Build a Image Manipulator using Python Bootcamp for Kids is a program designed to introduce chil 8 LessonsView Details$20per sessionBuild a Weather app using Python Bootcamp for kidsBuild a Weather App using Python Bootcamp for Kids is an educational program designed to introduce y 8 LessonsView Details$20per sessionBuild Your Own Roblox Battle ArenaRoblox Studio fundamentals are taught through fun and interactive projects. Lectures, projects, hand 8 LessonsView Details$22per sessionThe Millionaire\\'s AI Playbook: Learn How to Predict Stock Prices! (For Kids)Learn to predict stock prices using the incredible potential of AI and machine learning in our compr 10 LessonsView Details$11per sessionMachine Learning: 7-Day Project-Based Summer CampJoin our \"Machine Learning Mania\" camp for a 7-day tech adventure! Kids will tackle machine learning 7 Lessons',\n",
       " '8 LessonsView Details$22per sessionThe Millionaire\\'s AI Playbook: Learn How to Predict Stock Prices! (For Kids)Learn to predict stock prices using the incredible potential of AI and machine learning in our compr 10 LessonsView Details$11per sessionMachine Learning: 7-Day Project-Based Summer CampJoin our \"Machine Learning Mania\" camp for a 7-day tech adventure! Kids will tackle machine learning 7 LessonsView Details$25per sessionAI Pro Camp: Career Growth CatalystOur Intro to AI for Adults course is designed to equip professionals with essential knowledge and pr 20 LessonsView Details$20per sessionMinecraft Java Programming for BeginnersSession-1: Introduction to Java programming and Minecraft. Lesson 2: Getting Started in Creative Mod 7 LessonsView Details$20per sessionBuild a Chatbot using Python Bootcamp for kidsThis bootcamp is a fun and interactive program designed to teach children how to create their own ch 8 LessonsView Details$20',\n",
       " '$20per sessionMinecraft Java Programming for BeginnersSession-1: Introduction to Java programming and Minecraft. Lesson 2: Getting Started in Creative Mod 7 LessonsView Details$20per sessionBuild a Chatbot using Python Bootcamp for kidsThis bootcamp is a fun and interactive program designed to teach children how to create their own ch 8 LessonsView Details$20per sessionBuild a Password generator using Python Bootcamp for kidsWelcome to the Build a Password Generator using Python Bootcamp for Kids! In this bootcamp, you will 8 LessonsView Details$20per sessionScratch Playground: Create a Space Game!Scratch Playground : Create a Space Game is an intermediate-level course designed to introduce kids  8 LessonsView Details$20per sessionCreate Your Own Roblox Obstacle CourseRoblox enthusiasts who want to learn how to design and build their own custom obstacle courses withi 8 LessonsView Details$20per sessionJava Minecraft Creative or Survival Mode1. Title: Minecraft Java Programming for Beginners Overview: This class is designed for complete beg',\n",
       " 'Scratch Playground: Create a Space Game!Scratch Playground : Create a Space Game is an intermediate-level course designed to introduce kids  8 LessonsView Details$20per sessionCreate Your Own Roblox Obstacle CourseRoblox enthusiasts who want to learn how to design and build their own custom obstacle courses withi 8 LessonsView Details$20per sessionJava Minecraft Creative or Survival Mode1. Title: Minecraft Java Programming for Beginners Overview: This class is designed for complete beg 7 LessonsView Details$25per sessionAI Camp for Jobs & Business:Build Your own ChatGPT🌟Welcome to the Chatbot Mastery Course! 🎓Get ready to unlock the secrets of building intelligent 10 LessonsView Details$13per sessionHTML, CSS, JavaScript Essentials: 5-Day Coding BootcampUnleash your creativity in our fun and interactive 5-day summer camp. No prior experience needed. Yo 5 LessonsView DetailsWorking to bring significant changes in online-based learning by doing extensive research for course curriculum preparation, student engagements, and looking forward to the flexible education!ExploreHomeCoursesGift a CourseShare a Message',\n",
       " 'Get ready to unlock the secrets of building intelligent 10 LessonsView Details$13per sessionHTML, CSS, JavaScript Essentials: 5-Day Coding BootcampUnleash your creativity in our fun and interactive 5-day summer camp. No prior experience needed. Yo 5 LessonsView DetailsWorking to bring significant changes in online-based learning by doing extensive research for course curriculum preparation, student engagements, and looking forward to the flexible education!ExploreHomeCoursesGift a CourseShare a MessageResourcesFAQContactAddressUSA(+1) 414 429 3937support@brainlox.com(+1) 414 429 39372024 BrainloxPrivacy PolicyTerms & Conditions']"
      ]
     },
     "execution_count": 19,
     "metadata": {},
     "output_type": "execute_result"
    }
   ],
   "source": [
    "chunk_data"
   ]
  },
  {
   "cell_type": "code",
   "execution_count": 20,
   "metadata": {},
   "outputs": [
    {
     "name": "stderr",
     "output_type": "stream",
     "text": [
      "[nltk_data] Downloading package punkt_tab to /Users/vivek/nltk_data...\n",
      "[nltk_data]   Package punkt_tab is already up-to-date!\n"
     ]
    },
    {
     "data": {
      "text/plain": [
       "True"
      ]
     },
     "execution_count": 20,
     "metadata": {},
     "output_type": "execute_result"
    }
   ],
   "source": [
    "#resolving the nltk error \n",
    "import nltk\n",
    "\n",
    "# Download the punkt tokenizer model\n",
    "nltk.download('punkt_tab')\n",
    "\n",
    "\n"
   ]
  },
  {
   "cell_type": "code",
   "execution_count": 21,
   "metadata": {},
   "outputs": [
    {
     "name": "stderr",
     "output_type": "stream",
     "text": [
      "100%|██████████| 22/22 [00:00<00:00, 603.35it/s]\n"
     ]
    },
    {
     "data": {
      "text/plain": [
       "<pinecone_text.sparse.bm25_encoder.BM25Encoder at 0x14a8f2750>"
      ]
     },
     "execution_count": 21,
     "metadata": {},
     "output_type": "execute_result"
    }
   ],
   "source": [
    "#tfidf values  on these sentences\n",
    "bm25_encoder.fit(chunk_data)\n"
   ]
  },
  {
   "cell_type": "code",
   "execution_count": 22,
   "metadata": {},
   "outputs": [],
   "source": [
    "#store the values as json files\n",
    "bm25_encoder.dump(\"bm25_values.json\")\n",
    "\n",
    "#loading the encoder object\n",
    "bm25_loaded = BM25Encoder().load(\"bm25_values.json\")"
   ]
  },
  {
   "cell_type": "code",
   "execution_count": 23,
   "metadata": {},
   "outputs": [],
   "source": [
    "#creating a retriver object\n",
    "retriver = PineconeHybridSearchRetriever(embeddings=embeddings, sparse_encoder=bm25_encoder, index=index)"
   ]
  },
  {
   "cell_type": "code",
   "execution_count": 24,
   "metadata": {},
   "outputs": [
    {
     "data": {
      "text/plain": [
       "PineconeHybridSearchRetriever(embeddings=HuggingFaceEmbeddings(client=SentenceTransformer(\n",
       "  (0): Transformer({'max_seq_length': 256, 'do_lower_case': False}) with Transformer model: BertModel \n",
       "  (1): Pooling({'word_embedding_dimension': 384, 'pooling_mode_cls_token': False, 'pooling_mode_mean_tokens': True, 'pooling_mode_max_tokens': False, 'pooling_mode_mean_sqrt_len_tokens': False, 'pooling_mode_weightedmean_tokens': False, 'pooling_mode_lasttoken': False, 'include_prompt': True})\n",
       "  (2): Normalize()\n",
       "), model_name='all-MiniLM-L6-v2', cache_folder=None, model_kwargs={}, encode_kwargs={}, multi_process=False, show_progress=False), sparse_encoder=<pinecone_text.sparse.bm25_encoder.BM25Encoder object at 0x14a8f2750>, index=<pinecone.data.index.Index object at 0x10d703450>)"
      ]
     },
     "execution_count": 24,
     "metadata": {},
     "output_type": "execute_result"
    }
   ],
   "source": [
    "retriver"
   ]
  },
  {
   "cell_type": "code",
   "execution_count": 27,
   "metadata": {},
   "outputs": [
    {
     "name": "stderr",
     "output_type": "stream",
     "text": [
      "100%|██████████| 1/1 [00:03<00:00,  3.33s/it]\n"
     ]
    }
   ],
   "source": [
    "retriver.add_texts(chunk_data)"
   ]
  },
  {
   "cell_type": "code",
   "execution_count": 28,
   "metadata": {},
   "outputs": [
    {
     "data": {
      "text/plain": [
       "[Document(metadata={'score': 0.575161457}, page_content=' 7 LessonsView Details$22per sessionThe AI Writer\\'s Masterclass: Innovation and Inspiration in Creative Writing! (For Kids)Enhance your creative writing skills with AI! Join our 10-day course and explore AI\\'s role in writin 10 LessonsView Details$30per sessionWeb Development Pro: Intermediate LevelReady to unlock the full potential of web development? Join our \"Intermediate Web Development Master 8 LessonsView Details$20per sessionScratch Playground: Create a Scroller Game!Scratch Playground : Create a Scroller Game is an intermediate level course designed to teach kids t 8 LessonsView Details$25per sessionAI Pro: Creative Writing Camp for Adults🚀 Welcome to Creative Writing with AI for ADULTS! Unleash your creativity with cutting-edge AI tec 10 LessonsView Details$20per sessionPython Playground: Create Your Own Snake GameThrough this course, participants will learn the fundamentals of Python programming language, as wel 8 LessonsView Details'),\n",
       " Document(metadata={'score': 0.524144351}, page_content='Step into our 7-day \"Python Project Playground\" camp where coding meets creativity! Kids will explor 7 LessonsView Details$22per sessionAI Secrets Revealed: Master Productivity Hacks That Will Blow Your Mind! (For Kids)Boost your productivity with AI! Join our \"AI for Productivity and Time Management\" course and lea 11 LessonsView Details$12per sessionSummer Bootcamp with JavaScript: Real Projects, Real ResultsIn this 5-day camp, you\\'ll dive headfirst into JavaScript, one of the world\\'s most popular programmi 5 LessonsView Details$22per sessionAI Disruption: Top Entrepreneurs Harnessing AI for Unprecedented Success! (For Kids)Understand the role and potential of AI in entrepreneurship, learn the fundamentals, explore data ac 7 LessonsView Details$22per sessionThe AI Writer\\'s Masterclass: Innovation and Inspiration in Creative Writing! (For Kids)Enhance your creative writing skills with AI! Join our 10-day course and explore AI\\'s role in writin 10 LessonsView Details$30per sessionWeb Development Pro: Intermediate LevelReady to unlock the full potential of web development? Join our \"Intermediate Web Development Master 8'),\n",
       " Document(metadata={'score': 0.491712123}, page_content='8 LessonsView Details$22per sessionThe Millionaire\\'s AI Playbook: Learn How to Predict Stock Prices! (For Kids)Learn to predict stock prices using the incredible potential of AI and machine learning in our compr 10 LessonsView Details$11per sessionMachine Learning: 7-Day Project-Based Summer CampJoin our \"Machine Learning Mania\" camp for a 7-day tech adventure! Kids will tackle machine learning 7 LessonsView Details$25per sessionAI Pro Camp: Career Growth CatalystOur Intro to AI for Adults course is designed to equip professionals with essential knowledge and pr 20 LessonsView Details$20per sessionMinecraft Java Programming for BeginnersSession-1: Introduction to Java programming and Minecraft. Lesson 2: Getting Started in Creative Mod 7 LessonsView Details$20per sessionBuild a Chatbot using Python Bootcamp for kidsThis bootcamp is a fun and interactive program designed to teach children how to create their own ch 8 LessonsView Details$20'),\n",
       " Document(metadata={'score': 0.420664251}, page_content='Welcome to the \"Introduction to Python Game Development\" course! In this course, you\\'ll embark on a 4 LessonsView Details$20per sessionBuild a Image manipulator using Python Bootcamp for kidsThe Build a Image Manipulator using Python Bootcamp for Kids is a program designed to introduce chil 8 LessonsView Details$20per sessionBuild a Weather app using Python Bootcamp for kidsBuild a Weather App using Python Bootcamp for Kids is an educational program designed to introduce y 8 LessonsView Details$20per sessionBuild Your Own Roblox Battle ArenaRoblox Studio fundamentals are taught through fun and interactive projects. Lectures, projects, hand 8 LessonsView Details$22per sessionThe Millionaire\\'s AI Playbook: Learn How to Predict Stock Prices! (For Kids)Learn to predict stock prices using the incredible potential of AI and machine learning in our compr 10 LessonsView Details$11per sessionMachine Learning: 7-Day Project-Based Summer CampJoin our \"Machine Learning Mania\" camp for a 7-day tech adventure! Kids will tackle machine learning 7 Lessons')]"
      ]
     },
     "execution_count": 28,
     "metadata": {},
     "output_type": "execute_result"
    }
   ],
   "source": [
    "retriver.invoke(\"7 LessonsView Details$22per sessionThe AI Writer\")"
   ]
  },
  {
   "cell_type": "code",
   "execution_count": null,
   "metadata": {},
   "outputs": [],
   "source": []
  }
 ],
 "metadata": {
  "kernelspec": {
   "display_name": "triluxo",
   "language": "python",
   "name": "python3"
  },
  "language_info": {
   "codemirror_mode": {
    "name": "ipython",
    "version": 3
   },
   "file_extension": ".py",
   "mimetype": "text/x-python",
   "name": "python",
   "nbconvert_exporter": "python",
   "pygments_lexer": "ipython3",
   "version": "3.11.8"
  }
 },
 "nbformat": 4,
 "nbformat_minor": 2
}
